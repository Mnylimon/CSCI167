{
  "nbformat": 4,
  "nbformat_minor": 0,
  "metadata": {
    "colab": {
      "provenance": []
    },
    "kernelspec": {
      "name": "python3",
      "display_name": "Python 3"
    },
    "language_info": {
      "name": "python"
    }
  },
  "cells": [
    {
      "cell_type": "markdown",
      "metadata": {
        "id": "view-in-github"
      },
      "source": [
        "<a href=\"https://colab.research.google.com/github/udlbook/udlbook/blob/main/Notebooks/Chap10/10_2_Convolution_for_MNIST_1D.ipynb\" target=\"_parent\"><img src=\"https://colab.research.google.com/assets/colab-badge.svg\" alt=\"Open In Colab\"/></a>"
      ]
    },
    {
      "cell_type": "markdown",
      "source": [
        "# **Notebook 10.2: Convolution for MNIST-1D**\n",
        "\n",
        "This notebook investigates a 1D convolutional network for MNIST-1D as in figure 10.7 and 10.8a.\n",
        "\n",
        "Work through the cells below, running each cell in turn. In various places you will see the words \"TO DO\". Follow the instructions at these places and make predictions about what is going to happen or write code to complete the functions.\n",
        "\n",
        "Contact me at udlbookmail@gmail.com if you find any mistakes or have any suggestions.\n",
        "\n"
      ],
      "metadata": {
        "id": "t9vk9Elugvmi"
      }
    },
    {
      "cell_type": "code",
      "source": [
        "# Run this if you're in a Colab to install MNIST 1D repository\n",
        "!pip install git+https://github.com/greydanus/mnist1d"
      ],
      "metadata": {
        "id": "D5yLObtZCi9J",
        "colab": {
          "base_uri": "https://localhost:8080/"
        },
        "outputId": "2da87054-d788-4107-ee40-a95cb2b6a574"
      },
      "execution_count": null,
      "outputs": [
        {
          "output_type": "stream",
          "name": "stdout",
          "text": [
            "Collecting git+https://github.com/greydanus/mnist1d\n",
            "  Cloning https://github.com/greydanus/mnist1d to /tmp/pip-req-build-_lsgbuaf\n",
            "  Running command git clone --filter=blob:none --quiet https://github.com/greydanus/mnist1d /tmp/pip-req-build-_lsgbuaf\n",
            "  Resolved https://github.com/greydanus/mnist1d to commit 7878d96082abd200c546a07a4101fa90b30fdf7e\n",
            "  Installing build dependencies ... \u001b[?25l\u001b[?25hdone\n",
            "  Getting requirements to build wheel ... \u001b[?25l\u001b[?25hdone\n",
            "  Preparing metadata (pyproject.toml) ... \u001b[?25l\u001b[?25hdone\n",
            "Requirement already satisfied: requests in /usr/local/lib/python3.10/dist-packages (from mnist1d==0.0.2.post16) (2.32.3)\n",
            "Requirement already satisfied: numpy in /usr/local/lib/python3.10/dist-packages (from mnist1d==0.0.2.post16) (1.26.4)\n",
            "Requirement already satisfied: matplotlib in /usr/local/lib/python3.10/dist-packages (from mnist1d==0.0.2.post16) (3.7.1)\n",
            "Requirement already satisfied: scipy in /usr/local/lib/python3.10/dist-packages (from mnist1d==0.0.2.post16) (1.13.1)\n",
            "Requirement already satisfied: contourpy>=1.0.1 in /usr/local/lib/python3.10/dist-packages (from matplotlib->mnist1d==0.0.2.post16) (1.3.0)\n",
            "Requirement already satisfied: cycler>=0.10 in /usr/local/lib/python3.10/dist-packages (from matplotlib->mnist1d==0.0.2.post16) (0.12.1)\n",
            "Requirement already satisfied: fonttools>=4.22.0 in /usr/local/lib/python3.10/dist-packages (from matplotlib->mnist1d==0.0.2.post16) (4.54.1)\n",
            "Requirement already satisfied: kiwisolver>=1.0.1 in /usr/local/lib/python3.10/dist-packages (from matplotlib->mnist1d==0.0.2.post16) (1.4.7)\n",
            "Requirement already satisfied: packaging>=20.0 in /usr/local/lib/python3.10/dist-packages (from matplotlib->mnist1d==0.0.2.post16) (24.1)\n",
            "Requirement already satisfied: pillow>=6.2.0 in /usr/local/lib/python3.10/dist-packages (from matplotlib->mnist1d==0.0.2.post16) (10.4.0)\n",
            "Requirement already satisfied: pyparsing>=2.3.1 in /usr/local/lib/python3.10/dist-packages (from matplotlib->mnist1d==0.0.2.post16) (3.2.0)\n",
            "Requirement already satisfied: python-dateutil>=2.7 in /usr/local/lib/python3.10/dist-packages (from matplotlib->mnist1d==0.0.2.post16) (2.8.2)\n",
            "Requirement already satisfied: charset-normalizer<4,>=2 in /usr/local/lib/python3.10/dist-packages (from requests->mnist1d==0.0.2.post16) (3.4.0)\n",
            "Requirement already satisfied: idna<4,>=2.5 in /usr/local/lib/python3.10/dist-packages (from requests->mnist1d==0.0.2.post16) (3.10)\n",
            "Requirement already satisfied: urllib3<3,>=1.21.1 in /usr/local/lib/python3.10/dist-packages (from requests->mnist1d==0.0.2.post16) (2.2.3)\n",
            "Requirement already satisfied: certifi>=2017.4.17 in /usr/local/lib/python3.10/dist-packages (from requests->mnist1d==0.0.2.post16) (2024.8.30)\n",
            "Requirement already satisfied: six>=1.5 in /usr/local/lib/python3.10/dist-packages (from python-dateutil>=2.7->matplotlib->mnist1d==0.0.2.post16) (1.16.0)\n",
            "Building wheels for collected packages: mnist1d\n",
            "  Building wheel for mnist1d (pyproject.toml) ... \u001b[?25l\u001b[?25hdone\n",
            "  Created wheel for mnist1d: filename=mnist1d-0.0.2.post16-py3-none-any.whl size=14624 sha256=6b91b6b4bf03f3d83fd0e499e2558c249f259530888d934b08ec4b4b9c2285ff\n",
            "  Stored in directory: /tmp/pip-ephem-wheel-cache-646ka43v/wheels/41/95/55/45fcf7d38cfa97e35682da6c5017d4513729131326ce935371\n",
            "Successfully built mnist1d\n",
            "Installing collected packages: mnist1d\n",
            "Successfully installed mnist1d-0.0.2.post16\n"
          ]
        }
      ]
    },
    {
      "cell_type": "code",
      "source": [
        "import numpy as np\n",
        "import os\n",
        "import torch, torch.nn as nn\n",
        "from torch.utils.data import TensorDataset, DataLoader\n",
        "from torch.optim.lr_scheduler import StepLR\n",
        "import matplotlib.pyplot as plt\n",
        "import mnist1d\n",
        "import random"
      ],
      "metadata": {
        "id": "YrXWAH7sUWvU"
      },
      "execution_count": null,
      "outputs": []
    },
    {
      "cell_type": "code",
      "source": [
        "args = mnist1d.data.get_dataset_args()\n",
        "data = mnist1d.data.get_dataset(args, path='./mnist1d_data.pkl', download=False, regenerate=False)\n",
        "\n",
        "# The training and test input and outputs are in\n",
        "# data['x'], data['y'], data['x_test'], and data['y_test']\n",
        "print(\"Examples in training set: {}\".format(len(data['y'])))\n",
        "print(\"Examples in test set: {}\".format(len(data['y_test'])))\n",
        "print(\"Length of each example: {}\".format(data['x'].shape[-1]))"
      ],
      "metadata": {
        "id": "twI72ZCrCt5z",
        "colab": {
          "base_uri": "https://localhost:8080/"
        },
        "outputId": "bfbf1a7d-7096-43a8-a480-2bc5ace6211a"
      },
      "execution_count": null,
      "outputs": [
        {
          "output_type": "stream",
          "name": "stdout",
          "text": [
            "Did or could not load data from ./mnist1d_data.pkl. Rebuilding dataset...\n",
            "Examples in training set: 4000\n",
            "Examples in test set: 1000\n",
            "Length of each example: 40\n"
          ]
        }
      ]
    },
    {
      "cell_type": "code",
      "source": [
        "# Load in the data\n",
        "train_data_x = data['x'].transpose()\n",
        "train_data_y = data['y']\n",
        "val_data_x = data['x_test'].transpose()\n",
        "val_data_y = data['y_test']\n",
        "# Print out sizes\n",
        "print(\"Train data: %d examples (columns), each of which has %d dimensions (rows)\"%((train_data_x.shape[1],train_data_x.shape[0])))\n",
        "print(\"Validation data: %d examples (columns), each of which has %d dimensions (rows)\"%((val_data_x.shape[1],val_data_x.shape[0])))"
      ],
      "metadata": {
        "id": "8bKADvLHbiV5",
        "colab": {
          "base_uri": "https://localhost:8080/"
        },
        "outputId": "7f882e10-ab3d-451b-a99a-38561024de0f"
      },
      "execution_count": null,
      "outputs": [
        {
          "output_type": "stream",
          "name": "stdout",
          "text": [
            "Train data: 4000 examples (columns), each of which has 40 dimensions (rows)\n",
            "Validation data: 1000 examples (columns), each of which has 40 dimensions (rows)\n"
          ]
        }
      ]
    },
    {
      "cell_type": "markdown",
      "source": [
        "Define the network"
      ],
      "metadata": {
        "id": "_sFvRDGrl4qe"
      }
    },
    {
      "cell_type": "code",
      "source": [
        "# There are 40 input dimensions and 10 output dimensions for this data\n",
        "# The inputs correspond to the 40 offsets in the MNIST1D template.\n",
        "D_i = 40\n",
        "# The outputs correspond to the 10 digits\n",
        "D_o = 10\n",
        "\n",
        "\n",
        "# TODO Create a model with the following layers\n",
        "# 1. Convolutional layer, (input=length 40 and 1 channel, kernel size 3, stride 2, padding=\"valid\", 15 output channels )\n",
        "# 2. ReLU\n",
        "# 3. Convolutional layer, (input=length 19 and 15 channels, kernel size 3, stride 2, padding=\"valid\", 15 output channels )\n",
        "# 4. ReLU\n",
        "# 5. Convolutional layer, (input=length 9 and 15 channels, kernel size 3, stride 2, padding=\"valid\", 15 output channels)\n",
        "# 6. ReLU\n",
        "# 7. Flatten (converts 4x15) to length 60\n",
        "# 8. Linear layer (input size = 60, output size = 10)\n",
        "# References:\n",
        "# https://pytorch.org/docs/1.13/generated/torch.nn.Conv1d.html?highlight=conv1d#torch.nn.Conv1d\n",
        "# https://pytorch.org/docs/stable/generated/torch.nn.Flatten.html\n",
        "# https://pytorch.org/docs/1.13/generated/torch.nn.Linear.html?highlight=linear#torch.nn.Linear\n",
        "\n",
        "# NOTE THAT THE CONVOLUTIONAL LAYERS NEED TO TAKE THE NUMBER OF INPUT CHANNELS AS A PARAMETER\n",
        "# AND NOT THE INPUT SIZE.\n",
        "\n",
        "# Replace the following function:\n",
        "model = nn.Sequential(\n",
        "    # 1st Convolutional Layer\n",
        "    nn.Conv1d(in_channels=1, out_channels=15, kernel_size=3, stride=2, padding=0),\n",
        "    nn.ReLU(),\n",
        "\n",
        "    # 2nd Convolutional Layer\n",
        "    nn.Conv1d(in_channels=15, out_channels=15, kernel_size=3, stride=2, padding=0),\n",
        "    nn.ReLU(),\n",
        "\n",
        "    # 3rd Convolutional Layer\n",
        "    nn.Conv1d(in_channels=15, out_channels=15, kernel_size=3, stride=2, padding=0),\n",
        "    nn.ReLU(),\n",
        "\n",
        "    # Flatten layer to convert the final output into a 1D vector of size 60\n",
        "    nn.Flatten(),\n",
        "\n",
        "    # Linear layer for classification\n",
        "    nn.Linear(4 * 15, 10)  # 4 * 15 = 60\n",
        ")\n",
        "\n",
        "\n",
        "\n"
      ],
      "metadata": {
        "id": "FslroPJJffrh"
      },
      "execution_count": null,
      "outputs": []
    },
    {
      "cell_type": "code",
      "source": [
        "# He initialization of weights\n",
        "def weights_init(layer_in):\n",
        "  if isinstance(layer_in, nn.Linear):\n",
        "    nn.init.kaiming_uniform_(layer_in.weight)\n",
        "    layer_in.bias.data.fill_(0.0)"
      ],
      "metadata": {
        "id": "YgLaex1pfhqz"
      },
      "execution_count": null,
      "outputs": []
    },
    {
      "cell_type": "code",
      "source": [
        "# choose cross entropy loss function (equation 5.24 in the loss notes)\n",
        "loss_function = nn.CrossEntropyLoss()\n",
        "# construct SGD optimizer and initialize learning rate and momentum\n",
        "optimizer = torch.optim.SGD(model.parameters(), lr = 0.05, momentum=0.9)\n",
        "# object that decreases learning rate by half every 20 epochs\n",
        "scheduler = StepLR(optimizer, step_size=20, gamma=0.5)\n",
        "# create 100 dummy data points and store in data loader class\n",
        "x_train = torch.tensor(train_data_x.transpose().astype('float32'))\n",
        "y_train = torch.tensor(train_data_y.astype('long')).long()\n",
        "x_val= torch.tensor(val_data_x.transpose().astype('float32'))\n",
        "y_val = torch.tensor(val_data_y.astype('long')).long()\n",
        "\n",
        "# load the data into a class that creates the batches\n",
        "data_loader = DataLoader(TensorDataset(x_train,y_train), batch_size=100, shuffle=True, worker_init_fn=np.random.seed(1))\n",
        "\n",
        "# Initialize model weights\n",
        "model.apply(weights_init)\n",
        "\n",
        "# loop over the dataset n_epoch times\n",
        "n_epoch = 100\n",
        "# store the loss and the % correct at each epoch\n",
        "losses_train = np.zeros((n_epoch))\n",
        "errors_train = np.zeros((n_epoch))\n",
        "losses_val = np.zeros((n_epoch))\n",
        "errors_val = np.zeros((n_epoch))\n",
        "\n",
        "for epoch in range(n_epoch):\n",
        "  # loop over batches\n",
        "  for i, data in enumerate(data_loader):\n",
        "    # retrieve inputs and labels for this batch\n",
        "    x_batch, y_batch = data\n",
        "    # zero the parameter gradients\n",
        "    optimizer.zero_grad()\n",
        "    # forward pass -- calculate model output\n",
        "    pred = model(x_batch[:,None,:])\n",
        "    # compute the loss\n",
        "    loss = loss_function(pred, y_batch)\n",
        "    # backward pass\n",
        "    loss.backward()\n",
        "    # SGD update\n",
        "    optimizer.step()\n",
        "\n",
        "  # Run whole dataset to get statistics -- normally wouldn't do this\n",
        "  pred_train = model(x_train[:,None,:])\n",
        "  pred_val = model(x_val[:,None,:])\n",
        "  _, predicted_train_class = torch.max(pred_train.data, 1)\n",
        "  _, predicted_val_class = torch.max(pred_val.data, 1)\n",
        "  errors_train[epoch] = 100 - 100 * (predicted_train_class == y_train).float().sum() / len(y_train)\n",
        "  errors_val[epoch]= 100 - 100 * (predicted_val_class == y_val).float().sum() / len(y_val)\n",
        "  losses_train[epoch] = loss_function(pred_train, y_train).item()\n",
        "  losses_val[epoch]= loss_function(pred_val, y_val).item()\n",
        "  print(f'Epoch {epoch:5d}, train loss {losses_train[epoch]:.6f}, train error {errors_train[epoch]:3.2f},  val loss {losses_val[epoch]:.6f}, percent error {errors_val[epoch]:3.2f}')\n",
        "\n",
        "  # tell scheduler to consider updating learning rate\n",
        "  scheduler.step()\n",
        "\n",
        "# Plot the results\n",
        "fig, ax = plt.subplots()\n",
        "ax.plot(errors_train,'r-',label='train')\n",
        "ax.plot(errors_val,'b-',label='validation')\n",
        "ax.set_ylim(0,100); ax.set_xlim(0,n_epoch)\n",
        "ax.set_xlabel('Epoch'); ax.set_ylabel('Error')\n",
        "ax.set_title('Part I: Validation Result %3.2f'%(errors_val[-1]))\n",
        "ax.legend()\n",
        "plt.show()"
      ],
      "metadata": {
        "id": "NYw8I_3mmX5c",
        "colab": {
          "base_uri": "https://localhost:8080/",
          "height": 1000
        },
        "outputId": "e353e169-9d38-407e-e47d-cc002e84b3fb"
      },
      "execution_count": null,
      "outputs": [
        {
          "output_type": "stream",
          "name": "stdout",
          "text": [
            "Epoch     0, train loss 1.926646, train error 75.10,  val loss 1.949606, percent error 80.00\n",
            "Epoch     1, train loss 1.587507, train error 63.47,  val loss 1.603662, percent error 63.70\n",
            "Epoch     2, train loss 1.402575, train error 58.17,  val loss 1.409204, percent error 61.30\n",
            "Epoch     3, train loss 1.262544, train error 51.80,  val loss 1.267671, percent error 52.50\n",
            "Epoch     4, train loss 1.203049, train error 48.50,  val loss 1.224435, percent error 52.70\n",
            "Epoch     5, train loss 1.089880, train error 43.50,  val loss 1.110272, percent error 46.00\n",
            "Epoch     6, train loss 1.037899, train error 41.03,  val loss 1.076556, percent error 44.10\n",
            "Epoch     7, train loss 0.895242, train error 34.93,  val loss 0.923631, percent error 36.20\n",
            "Epoch     8, train loss 0.843988, train error 32.72,  val loss 0.872215, percent error 34.30\n",
            "Epoch     9, train loss 0.783400, train error 29.97,  val loss 0.812602, percent error 31.60\n",
            "Epoch    10, train loss 0.646965, train error 25.25,  val loss 0.702075, percent error 27.20\n",
            "Epoch    11, train loss 0.607293, train error 24.78,  val loss 0.690497, percent error 27.50\n",
            "Epoch    12, train loss 0.603333, train error 22.40,  val loss 0.691517, percent error 27.20\n",
            "Epoch    13, train loss 0.515755, train error 19.12,  val loss 0.622555, percent error 23.70\n",
            "Epoch    14, train loss 0.490400, train error 18.47,  val loss 0.602517, percent error 21.80\n",
            "Epoch    15, train loss 0.409721, train error 14.85,  val loss 0.511188, percent error 18.60\n",
            "Epoch    16, train loss 0.387974, train error 13.10,  val loss 0.531393, percent error 18.00\n",
            "Epoch    17, train loss 0.328780, train error 11.47,  val loss 0.479325, percent error 15.80\n",
            "Epoch    18, train loss 0.348851, train error 12.50,  val loss 0.476773, percent error 18.00\n",
            "Epoch    19, train loss 0.344995, train error 12.38,  val loss 0.510579, percent error 16.10\n",
            "Epoch    20, train loss 0.234055, train error 7.93,  val loss 0.377803, percent error 12.00\n",
            "Epoch    21, train loss 0.224517, train error 7.60,  val loss 0.385971, percent error 12.40\n",
            "Epoch    22, train loss 0.209157, train error 7.05,  val loss 0.362474, percent error 12.20\n",
            "Epoch    23, train loss 0.203679, train error 6.78,  val loss 0.388602, percent error 11.50\n",
            "Epoch    24, train loss 0.189735, train error 6.40,  val loss 0.373407, percent error 12.20\n",
            "Epoch    25, train loss 0.216739, train error 7.12,  val loss 0.400371, percent error 11.70\n",
            "Epoch    26, train loss 0.186746, train error 6.50,  val loss 0.382314, percent error 12.70\n",
            "Epoch    27, train loss 0.185609, train error 6.28,  val loss 0.394041, percent error 12.00\n",
            "Epoch    28, train loss 0.174527, train error 5.70,  val loss 0.356846, percent error 11.70\n",
            "Epoch    29, train loss 0.182099, train error 6.32,  val loss 0.377084, percent error 12.10\n",
            "Epoch    30, train loss 0.142980, train error 4.95,  val loss 0.350151, percent error 10.70\n",
            "Epoch    31, train loss 0.140871, train error 4.65,  val loss 0.353015, percent error 11.20\n",
            "Epoch    32, train loss 0.135425, train error 4.38,  val loss 0.370061, percent error 11.20\n",
            "Epoch    33, train loss 0.134648, train error 4.57,  val loss 0.365169, percent error 11.40\n",
            "Epoch    34, train loss 0.135543, train error 4.53,  val loss 0.369503, percent error 11.90\n",
            "Epoch    35, train loss 0.156501, train error 5.53,  val loss 0.370504, percent error 11.50\n",
            "Epoch    36, train loss 0.116539, train error 3.45,  val loss 0.360552, percent error 11.40\n",
            "Epoch    37, train loss 0.102809, train error 2.97,  val loss 0.349793, percent error 10.60\n",
            "Epoch    38, train loss 0.114626, train error 4.00,  val loss 0.361116, percent error 10.70\n",
            "Epoch    39, train loss 0.110838, train error 3.90,  val loss 0.408587, percent error 11.60\n",
            "Epoch    40, train loss 0.085147, train error 2.20,  val loss 0.352915, percent error 9.80\n",
            "Epoch    41, train loss 0.079211, train error 1.97,  val loss 0.335155, percent error 9.90\n",
            "Epoch    42, train loss 0.074882, train error 1.82,  val loss 0.358381, percent error 10.50\n",
            "Epoch    43, train loss 0.079938, train error 2.03,  val loss 0.346240, percent error 10.10\n",
            "Epoch    44, train loss 0.076601, train error 2.03,  val loss 0.361192, percent error 9.70\n",
            "Epoch    45, train loss 0.070243, train error 1.97,  val loss 0.361585, percent error 10.20\n",
            "Epoch    46, train loss 0.069485, train error 1.70,  val loss 0.358948, percent error 10.30\n",
            "Epoch    47, train loss 0.066796, train error 1.68,  val loss 0.373667, percent error 10.70\n",
            "Epoch    48, train loss 0.064658, train error 1.62,  val loss 0.362533, percent error 9.90\n",
            "Epoch    49, train loss 0.063147, train error 1.50,  val loss 0.359672, percent error 9.60\n",
            "Epoch    50, train loss 0.065521, train error 1.62,  val loss 0.389140, percent error 10.80\n",
            "Epoch    51, train loss 0.064703, train error 1.70,  val loss 0.379060, percent error 9.60\n",
            "Epoch    52, train loss 0.060683, train error 1.35,  val loss 0.371213, percent error 9.80\n",
            "Epoch    53, train loss 0.061249, train error 1.80,  val loss 0.393678, percent error 10.30\n",
            "Epoch    54, train loss 0.056513, train error 1.28,  val loss 0.376996, percent error 10.10\n",
            "Epoch    55, train loss 0.056653, train error 1.45,  val loss 0.385013, percent error 9.60\n",
            "Epoch    56, train loss 0.053780, train error 1.38,  val loss 0.393088, percent error 10.30\n",
            "Epoch    57, train loss 0.051530, train error 1.18,  val loss 0.400281, percent error 10.10\n",
            "Epoch    58, train loss 0.051125, train error 1.22,  val loss 0.387580, percent error 10.00\n",
            "Epoch    59, train loss 0.049045, train error 1.10,  val loss 0.394155, percent error 9.80\n",
            "Epoch    60, train loss 0.052363, train error 1.43,  val loss 0.418726, percent error 10.90\n",
            "Epoch    61, train loss 0.044316, train error 1.03,  val loss 0.394787, percent error 9.80\n",
            "Epoch    62, train loss 0.046776, train error 1.10,  val loss 0.404037, percent error 9.80\n",
            "Epoch    63, train loss 0.043751, train error 0.95,  val loss 0.395416, percent error 10.00\n",
            "Epoch    64, train loss 0.043043, train error 0.97,  val loss 0.411600, percent error 10.30\n",
            "Epoch    65, train loss 0.041863, train error 0.93,  val loss 0.399294, percent error 9.60\n",
            "Epoch    66, train loss 0.041685, train error 0.78,  val loss 0.396580, percent error 9.40\n",
            "Epoch    67, train loss 0.042209, train error 0.93,  val loss 0.403936, percent error 10.40\n",
            "Epoch    68, train loss 0.040104, train error 0.65,  val loss 0.396591, percent error 9.70\n",
            "Epoch    69, train loss 0.040860, train error 0.75,  val loss 0.415733, percent error 10.00\n",
            "Epoch    70, train loss 0.040721, train error 0.88,  val loss 0.417400, percent error 10.10\n",
            "Epoch    71, train loss 0.040275, train error 0.75,  val loss 0.401510, percent error 9.80\n",
            "Epoch    72, train loss 0.040529, train error 0.80,  val loss 0.406333, percent error 9.60\n",
            "Epoch    73, train loss 0.039078, train error 0.68,  val loss 0.408660, percent error 9.90\n",
            "Epoch    74, train loss 0.037784, train error 0.65,  val loss 0.407207, percent error 9.30\n",
            "Epoch    75, train loss 0.036567, train error 0.57,  val loss 0.412542, percent error 9.60\n",
            "Epoch    76, train loss 0.035900, train error 0.60,  val loss 0.419152, percent error 9.40\n",
            "Epoch    77, train loss 0.036049, train error 0.60,  val loss 0.417209, percent error 9.80\n",
            "Epoch    78, train loss 0.035867, train error 0.62,  val loss 0.414571, percent error 9.70\n",
            "Epoch    79, train loss 0.035009, train error 0.53,  val loss 0.422237, percent error 9.90\n",
            "Epoch    80, train loss 0.034009, train error 0.60,  val loss 0.424145, percent error 9.90\n",
            "Epoch    81, train loss 0.033305, train error 0.47,  val loss 0.421832, percent error 9.80\n",
            "Epoch    82, train loss 0.033019, train error 0.43,  val loss 0.423094, percent error 9.70\n",
            "Epoch    83, train loss 0.033193, train error 0.55,  val loss 0.427598, percent error 9.80\n",
            "Epoch    84, train loss 0.032732, train error 0.53,  val loss 0.424606, percent error 9.90\n",
            "Epoch    85, train loss 0.032658, train error 0.50,  val loss 0.431053, percent error 9.80\n",
            "Epoch    86, train loss 0.032363, train error 0.45,  val loss 0.430668, percent error 9.90\n",
            "Epoch    87, train loss 0.032203, train error 0.50,  val loss 0.427967, percent error 9.80\n",
            "Epoch    88, train loss 0.031929, train error 0.38,  val loss 0.427631, percent error 9.80\n",
            "Epoch    89, train loss 0.031714, train error 0.45,  val loss 0.428255, percent error 9.80\n",
            "Epoch    90, train loss 0.031541, train error 0.47,  val loss 0.430074, percent error 9.90\n",
            "Epoch    91, train loss 0.031740, train error 0.40,  val loss 0.431597, percent error 9.70\n",
            "Epoch    92, train loss 0.031172, train error 0.45,  val loss 0.431377, percent error 10.00\n",
            "Epoch    93, train loss 0.030998, train error 0.47,  val loss 0.431295, percent error 9.80\n",
            "Epoch    94, train loss 0.031592, train error 0.35,  val loss 0.428460, percent error 9.80\n",
            "Epoch    95, train loss 0.030394, train error 0.35,  val loss 0.438634, percent error 9.90\n",
            "Epoch    96, train loss 0.030309, train error 0.40,  val loss 0.434879, percent error 9.80\n",
            "Epoch    97, train loss 0.030704, train error 0.43,  val loss 0.432423, percent error 9.70\n",
            "Epoch    98, train loss 0.029736, train error 0.32,  val loss 0.437994, percent error 10.00\n",
            "Epoch    99, train loss 0.029624, train error 0.40,  val loss 0.438967, percent error 9.90\n"
          ]
        },
        {
          "output_type": "display_data",
          "data": {
            "text/plain": [
              "<Figure size 640x480 with 1 Axes>"
            ],
            "image/png": "[encoded data removed]"
          },
          "metadata": {}
        }
      ]
    }
  ]
}