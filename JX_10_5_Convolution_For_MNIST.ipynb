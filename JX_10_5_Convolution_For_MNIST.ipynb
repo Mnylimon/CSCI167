{
  "nbformat": 4,
  "nbformat_minor": 0,
  "metadata": {
    "colab": {
      "provenance": []
    },
    "kernelspec": {
      "name": "python3",
      "display_name": "Python 3"
    },
    "language_info": {
      "name": "python"
    }
  },
  "cells": [
    {
      "cell_type": "markdown",
      "metadata": {
        "id": "view-in-github"
      },
      "source": [
        "<a href=\"https://colab.research.google.com/github/udlbook/udlbook/blob/main/Notebooks/Chap10/10_5_Convolution_For_MNIST.ipynb\" target=\"_parent\"><img src=\"https://colab.research.google.com/assets/colab-badge.svg\" alt=\"Open In Colab\"/></a>"
      ]
    },
    {
      "cell_type": "markdown",
      "source": [
        "# **Notebook 10.5: Convolution for MNIST**\n",
        "\n",
        "This notebook builds a proper network for 2D convolution.  It works with the MNIST dataset (figure 15.15a), which was the original classic dataset for classifying images.  The network will take a 28x28 grayscale image and classify it into one of 10 classes representing a digit.\n",
        "\n",
        "The code is adapted from https://nextjournal.com/gkoehler/pytorch-mnist\n",
        "\n",
        "Work through the cells below, running each cell in turn. In various places you will see the words \"TO DO\". Follow the instructions at these places and make predictions about what is going to happen or write code to complete the functions.\n",
        "\n",
        "Contact me at udlbookmail@gmail.com if you find any mistakes or have any suggestions.\n"
      ],
      "metadata": {
        "id": "t9vk9Elugvmi"
      }
    },
    {
      "cell_type": "code",
      "source": [
        "import torch\n",
        "import torchvision\n",
        "import torch.nn as nn\n",
        "import torch.nn.functional as F\n",
        "import torch.optim as optim\n",
        "import matplotlib.pyplot as plt\n",
        "import random"
      ],
      "metadata": {
        "id": "YrXWAH7sUWvU"
      },
      "execution_count": 1,
      "outputs": []
    },
    {
      "cell_type": "code",
      "source": [
        "# Run this once to load the train and test data straight into a dataloader class\n",
        "# that will provide the batches\n",
        "\n",
        "# (It may complain that some files are missing because the files seem to have been\n",
        "# reorganized on the underlying website, but it still seems to work). If everything is working\n",
        "# properly, then the whole notebook should run to the end without further problems\n",
        "# even before you make changes.\n",
        "batch_size_train = 64\n",
        "batch_size_test = 1000\n",
        "\n",
        "# TODO Change this directory to point towards an existing directory\n",
        "myDir = '/files/MNIST/raw'\n",
        "\n",
        "train_loader = torch.utils.data.DataLoader(\n",
        "  torchvision.datasets.MNIST(myDir, train=True, download=True,\n",
        "                             transform=torchvision.transforms.Compose([\n",
        "                               torchvision.transforms.ToTensor(),\n",
        "                               torchvision.transforms.Normalize(\n",
        "                                 (0.1307,), (0.3081,))\n",
        "                             ])),\n",
        "  batch_size=batch_size_train, shuffle=True)\n",
        "\n",
        "test_loader = torch.utils.data.DataLoader(\n",
        "  torchvision.datasets.MNIST(myDir, train=False, download=True,\n",
        "                             transform=torchvision.transforms.Compose([\n",
        "                               torchvision.transforms.ToTensor(),\n",
        "                               torchvision.transforms.Normalize(\n",
        "                                 (0.1307,), (0.3081,))\n",
        "                             ])),\n",
        "  batch_size=batch_size_test, shuffle=True)"
      ],
      "metadata": {
        "id": "wScBGXXFVadm",
        "colab": {
          "base_uri": "https://localhost:8080/"
        },
        "outputId": "93c39f3d-3efa-488c-835c-000c373a3820"
      },
      "execution_count": 3,
      "outputs": [
        {
          "output_type": "stream",
          "name": "stdout",
          "text": [
            "Downloading http://yann.lecun.com/exdb/mnist/train-images-idx3-ubyte.gz\n",
            "Failed to download (trying next):\n",
            "<urlopen error [SSL: CERTIFICATE_VERIFY_FAILED] certificate verify failed: certificate has expired (_ssl.c:1007)>\n",
            "\n",
            "Downloading https://ossci-datasets.s3.amazonaws.com/mnist/train-images-idx3-ubyte.gz\n",
            "Downloading https://ossci-datasets.s3.amazonaws.com/mnist/train-images-idx3-ubyte.gz to /files/MNIST/raw/MNIST/raw/train-images-idx3-ubyte.gz\n"
          ]
        },
        {
          "output_type": "stream",
          "name": "stderr",
          "text": [
            "100%|██████████| 9.91M/9.91M [00:00<00:00, 20.0MB/s]\n"
          ]
        },
        {
          "output_type": "stream",
          "name": "stdout",
          "text": [
            "Extracting /files/MNIST/raw/MNIST/raw/train-images-idx3-ubyte.gz to /files/MNIST/raw/MNIST/raw\n",
            "\n",
            "Downloading http://yann.lecun.com/exdb/mnist/train-labels-idx1-ubyte.gz\n",
            "Failed to download (trying next):\n",
            "<urlopen error [SSL: CERTIFICATE_VERIFY_FAILED] certificate verify failed: certificate has expired (_ssl.c:1007)>\n",
            "\n",
            "Downloading https://ossci-datasets.s3.amazonaws.com/mnist/train-labels-idx1-ubyte.gz\n",
            "Downloading https://ossci-datasets.s3.amazonaws.com/mnist/train-labels-idx1-ubyte.gz to /files/MNIST/raw/MNIST/raw/train-labels-idx1-ubyte.gz\n"
          ]
        },
        {
          "output_type": "stream",
          "name": "stderr",
          "text": [
            "100%|██████████| 28.9k/28.9k [00:00<00:00, 640kB/s]\n"
          ]
        },
        {
          "output_type": "stream",
          "name": "stdout",
          "text": [
            "Extracting /files/MNIST/raw/MNIST/raw/train-labels-idx1-ubyte.gz to /files/MNIST/raw/MNIST/raw\n",
            "\n",
            "Downloading http://yann.lecun.com/exdb/mnist/t10k-images-idx3-ubyte.gz\n",
            "Failed to download (trying next):\n",
            "<urlopen error [SSL: CERTIFICATE_VERIFY_FAILED] certificate verify failed: certificate has expired (_ssl.c:1007)>\n",
            "\n",
            "Downloading https://ossci-datasets.s3.amazonaws.com/mnist/t10k-images-idx3-ubyte.gz\n",
            "Downloading https://ossci-datasets.s3.amazonaws.com/mnist/t10k-images-idx3-ubyte.gz to /files/MNIST/raw/MNIST/raw/t10k-images-idx3-ubyte.gz\n"
          ]
        },
        {
          "output_type": "stream",
          "name": "stderr",
          "text": [
            "100%|██████████| 1.65M/1.65M [00:00<00:00, 5.54MB/s]\n"
          ]
        },
        {
          "output_type": "stream",
          "name": "stdout",
          "text": [
            "Extracting /files/MNIST/raw/MNIST/raw/t10k-images-idx3-ubyte.gz to /files/MNIST/raw/MNIST/raw\n",
            "\n",
            "Downloading http://yann.lecun.com/exdb/mnist/t10k-labels-idx1-ubyte.gz\n",
            "Failed to download (trying next):\n",
            "<urlopen error [SSL: CERTIFICATE_VERIFY_FAILED] certificate verify failed: certificate has expired (_ssl.c:1007)>\n",
            "\n",
            "Downloading https://ossci-datasets.s3.amazonaws.com/mnist/t10k-labels-idx1-ubyte.gz\n",
            "Downloading https://ossci-datasets.s3.amazonaws.com/mnist/t10k-labels-idx1-ubyte.gz to /files/MNIST/raw/MNIST/raw/t10k-labels-idx1-ubyte.gz\n"
          ]
        },
        {
          "output_type": "stream",
          "name": "stderr",
          "text": [
            "100%|██████████| 4.54k/4.54k [00:00<00:00, 2.79MB/s]"
          ]
        },
        {
          "output_type": "stream",
          "name": "stdout",
          "text": [
            "Extracting /files/MNIST/raw/MNIST/raw/t10k-labels-idx1-ubyte.gz to /files/MNIST/raw/MNIST/raw\n",
            "\n"
          ]
        },
        {
          "output_type": "stream",
          "name": "stderr",
          "text": [
            "\n"
          ]
        }
      ]
    },
    {
      "cell_type": "code",
      "source": [
        "# Let's draw some of the training data\n",
        "examples = enumerate(test_loader)\n",
        "batch_idx, (example_data, example_targets) = next(examples)\n",
        "\n",
        "fig = plt.figure()\n",
        "for i in range(6):\n",
        "  plt.subplot(2,3,i+1)\n",
        "  plt.tight_layout()\n",
        "  plt.imshow(example_data[i][0], cmap='gray', interpolation='none')\n",
        "  plt.title(\"Ground Truth: {}\".format(example_targets[i]))\n",
        "  plt.xticks([])\n",
        "  plt.yticks([])\n",
        "plt.show()"
      ],
      "metadata": {
        "id": "8bKADvLHbiV5",
        "colab": {
          "base_uri": "https://localhost:8080/",
          "height": 438
        },
        "outputId": "3d431a0b-8d59-4732-c652-d6fa4dae1d69"
      },
      "execution_count": 15,
      "outputs": [
        {
          "output_type": "display_data",
          "data": {
            "text/plain": [
              "<Figure size 640x480 with 6 Axes>"
            ],
            "image/png": "[encoded data removed]"
          },
          "metadata": {}
        }
      ]
    },
    {
      "cell_type": "markdown",
      "source": [
        "Define the network.  This is a more typical way to define a network than the sequential structure.  We define a class for the network, and define the parameters in the constructor.  Then we use a function called forward to actually run the network.  It's easy to see how you might use residual connections in this format."
      ],
      "metadata": {
        "id": "_sFvRDGrl4qe"
      }
    },
    {
      "cell_type": "code",
      "source": [
        "from os import X_OK\n",
        "# TODO Change this class to implement\n",
        "# 1. A valid convolution with kernel size 5, 1 input channel and 10 output channels\n",
        "# 2. A max pooling operation over a 2x2 area\n",
        "# 3. A Relu\n",
        "# 4. A valid convolution with kernel size 5, 10 input channels and 20 output channels\n",
        "# 5. A 2D Dropout layer\n",
        "# 6. A max pooling operation over a 2x2 area\n",
        "# 7. A relu\n",
        "# 8. A flattening operation\n",
        "# 9. A fully connected layer mapping from (whatever dimensions we are at-- find out using .shape) to 50\n",
        "# 10. A ReLU\n",
        "# 11. A fully connected layer mapping from 50 to 10 dimensions\n",
        "# 12. A softmax function.\n",
        "\n",
        "# Replace this class which implements a minimal network (which still does okay)\n",
        "class Net(nn.Module):\n",
        "    def __init__(self):\n",
        "        super(Net, self).__init__()\n",
        "        # Valid convolution, 1 channel in, 2 channels out, stride 1, kernel size = 3\n",
        "        self.conv1 = nn.Conv2d(1, 10, kernel_size=5) #1\n",
        "        self.conv2 = nn.Conv2d(10, 20, kernel_size=5) #4\n",
        "        self.drop = nn.Dropout2d() #5\n",
        "        self.fc1 = nn.Linear(320, 50) #9\n",
        "        self.fc2 = nn.Linear(50, 10) #11\n",
        "\n",
        "    def forward(self, x):\n",
        "        x = F.max_pool2d(F.relu(self.conv1(x)), 2) #2 & 3\n",
        "        x = F.max_pool2d(F.relu(self.drop(self.conv2(x))), 2) #5, 6 & 7\n",
        "        x = x.view(-1, 320) #8\n",
        "        x = F.relu(self.fc1(x)) * 10\n",
        "        x = F.log_softmax(self.fc2(x)) #12\n",
        "        return x\n",
        "\n",
        "\n",
        "\n",
        "\n"
      ],
      "metadata": {
        "id": "EQkvw2KOPVl7"
      },
      "execution_count": 34,
      "outputs": []
    },
    {
      "cell_type": "code",
      "source": [
        "# He initialization of weights\n",
        "def weights_init(layer_in):\n",
        "  if isinstance(layer_in, nn.Linear):\n",
        "    nn.init.kaiming_uniform_(layer_in.weight)\n",
        "    layer_in.bias.data.fill_(0.0)"
      ],
      "metadata": {
        "id": "qWZtkCZcU_dg"
      },
      "execution_count": 35,
      "outputs": []
    },
    {
      "cell_type": "code",
      "source": [
        "# Create network\n",
        "model = Net()\n",
        "# Initialize model weights\n",
        "model.apply(weights_init)\n",
        "# Define optimizer\n",
        "optimizer = optim.SGD(model.parameters(), lr=0.01, momentum=0.5)"
      ],
      "metadata": {
        "id": "FslroPJJffrh"
      },
      "execution_count": 36,
      "outputs": []
    },
    {
      "cell_type": "code",
      "source": [
        "# Main training routine\n",
        "def train(epoch):\n",
        "  model.train()\n",
        "  # Get each\n",
        "  for batch_idx, (data, target) in enumerate(train_loader):\n",
        "    optimizer.zero_grad()\n",
        "    output = model(data)\n",
        "    loss = F.nll_loss(output, target)\n",
        "    loss.backward()\n",
        "    optimizer.step()\n",
        "    # Store results\n",
        "    if batch_idx % 10 == 0:\n",
        "      print('Train Epoch: {} [{}/{}]\\tLoss: {:.6f}'.format(\n",
        "        epoch, batch_idx * len(data), len(train_loader.dataset), loss.item()))"
      ],
      "metadata": {
        "id": "xKQd9PzkQ766"
      },
      "execution_count": 37,
      "outputs": []
    },
    {
      "cell_type": "code",
      "source": [
        "# Run on test data\n",
        "def test():\n",
        "  model.eval()\n",
        "  test_loss = 0\n",
        "  correct = 0\n",
        "  with torch.no_grad():\n",
        "    for data, target in test_loader:\n",
        "      output = model(data)\n",
        "      test_loss += F.nll_loss(output, target, size_average=False).item()\n",
        "      pred = output.data.max(1, keepdim=True)[1]\n",
        "      correct += pred.eq(target.data.view_as(pred)).sum()\n",
        "  test_loss /= len(test_loader.dataset)\n",
        "  print('\\nTest set: Avg. loss: {:.4f}, Accuracy: {}/{} ({:.0f}%)\\n'.format(\n",
        "    test_loss, correct, len(test_loader.dataset),\n",
        "    100. * correct / len(test_loader.dataset)))"
      ],
      "metadata": {
        "id": "Byn-f7qWRLxX"
      },
      "execution_count": 38,
      "outputs": []
    },
    {
      "cell_type": "code",
      "source": [
        "# Get initial performance\n",
        "test()\n",
        "# Train for three epochs\n",
        "n_epochs = 3\n",
        "for epoch in range(1, n_epochs + 1):\n",
        "  train(epoch)\n",
        "  test()"
      ],
      "metadata": {
        "id": "YgLaex1pfhqz",
        "colab": {
          "base_uri": "https://localhost:8080/"
        },
        "outputId": "9384208c-4ada-4c86-c9f2-99a0a94c5ed4"
      },
      "execution_count": 39,
      "outputs": [
        {
          "output_type": "stream",
          "name": "stderr",
          "text": [
            "<ipython-input-34-1bbfca155ac4>:32: UserWarning: Implicit dimension choice for log_softmax has been deprecated. Change the call to include dim=X as an argument.\n",
            "  x = F.log_softmax(self.fc2(x)) #12\n",
            "/usr/local/lib/python3.10/dist-packages/torch/nn/_reduction.py:51: UserWarning: size_average and reduce args will be deprecated, please use reduction='sum' instead.\n",
            "  warnings.warn(warning.format(ret))\n"
          ]
        },
        {
          "output_type": "stream",
          "name": "stdout",
          "text": [
            "\n",
            "Test set: Avg. loss: 6.3825, Accuracy: 1465/10000 (15%)\n",
            "\n",
            "Train Epoch: 1 [0/60000]\tLoss: 12.689188\n",
            "Train Epoch: 1 [640/60000]\tLoss: 2.304005\n",
            "Train Epoch: 1 [1280/60000]\tLoss: 2.238013\n",
            "Train Epoch: 1 [1920/60000]\tLoss: 2.196015\n",
            "Train Epoch: 1 [2560/60000]\tLoss: 2.073134\n",
            "Train Epoch: 1 [3200/60000]\tLoss: 1.939975\n",
            "Train Epoch: 1 [3840/60000]\tLoss: 1.773597\n",
            "Train Epoch: 1 [4480/60000]\tLoss: 1.658051\n",
            "Train Epoch: 1 [5120/60000]\tLoss: 1.543249\n",
            "Train Epoch: 1 [5760/60000]\tLoss: 1.330040\n",
            "Train Epoch: 1 [6400/60000]\tLoss: 1.679311\n",
            "Train Epoch: 1 [7040/60000]\tLoss: 1.147679\n",
            "Train Epoch: 1 [7680/60000]\tLoss: 1.378918\n",
            "Train Epoch: 1 [8320/60000]\tLoss: 1.317119\n",
            "Train Epoch: 1 [8960/60000]\tLoss: 0.965534\n",
            "Train Epoch: 1 [9600/60000]\tLoss: 1.248293\n",
            "Train Epoch: 1 [10240/60000]\tLoss: 0.967572\n",
            "Train Epoch: 1 [10880/60000]\tLoss: 1.007776\n",
            "Train Epoch: 1 [11520/60000]\tLoss: 0.997296\n",
            "Train Epoch: 1 [12160/60000]\tLoss: 1.277301\n",
            "Train Epoch: 1 [12800/60000]\tLoss: 0.776012\n",
            "Train Epoch: 1 [13440/60000]\tLoss: 1.105248\n",
            "Train Epoch: 1 [14080/60000]\tLoss: 0.944435\n",
            "Train Epoch: 1 [14720/60000]\tLoss: 0.736992\n",
            "Train Epoch: 1 [15360/60000]\tLoss: 0.977161\n",
            "Train Epoch: 1 [16000/60000]\tLoss: 0.902820\n",
            "Train Epoch: 1 [16640/60000]\tLoss: 0.893547\n",
            "Train Epoch: 1 [17280/60000]\tLoss: 0.729196\n",
            "Train Epoch: 1 [17920/60000]\tLoss: 0.999920\n",
            "Train Epoch: 1 [18560/60000]\tLoss: 0.945010\n",
            "Train Epoch: 1 [19200/60000]\tLoss: 0.979514\n",
            "Train Epoch: 1 [19840/60000]\tLoss: 0.779051\n",
            "Train Epoch: 1 [20480/60000]\tLoss: 0.776755\n",
            "Train Epoch: 1 [21120/60000]\tLoss: 0.946954\n",
            "Train Epoch: 1 [21760/60000]\tLoss: 0.635297\n",
            "Train Epoch: 1 [22400/60000]\tLoss: 0.637102\n",
            "Train Epoch: 1 [23040/60000]\tLoss: 0.767241\n",
            "Train Epoch: 1 [23680/60000]\tLoss: 0.677310\n",
            "Train Epoch: 1 [24320/60000]\tLoss: 0.612693\n",
            "Train Epoch: 1 [24960/60000]\tLoss: 0.885086\n",
            "Train Epoch: 1 [25600/60000]\tLoss: 0.576976\n",
            "Train Epoch: 1 [26240/60000]\tLoss: 0.417476\n",
            "Train Epoch: 1 [26880/60000]\tLoss: 0.460166\n",
            "Train Epoch: 1 [27520/60000]\tLoss: 0.860632\n",
            "Train Epoch: 1 [28160/60000]\tLoss: 0.607567\n",
            "Train Epoch: 1 [28800/60000]\tLoss: 0.463111\n",
            "Train Epoch: 1 [29440/60000]\tLoss: 0.748301\n",
            "Train Epoch: 1 [30080/60000]\tLoss: 0.587781\n",
            "Train Epoch: 1 [30720/60000]\tLoss: 0.620763\n",
            "Train Epoch: 1 [31360/60000]\tLoss: 0.726619\n",
            "Train Epoch: 1 [32000/60000]\tLoss: 0.495889\n",
            "Train Epoch: 1 [32640/60000]\tLoss: 0.608265\n",
            "Train Epoch: 1 [33280/60000]\tLoss: 0.585568\n",
            "Train Epoch: 1 [33920/60000]\tLoss: 0.529399\n",
            "Train Epoch: 1 [34560/60000]\tLoss: 0.665938\n",
            "Train Epoch: 1 [35200/60000]\tLoss: 0.668973\n",
            "Train Epoch: 1 [35840/60000]\tLoss: 0.415738\n",
            "Train Epoch: 1 [36480/60000]\tLoss: 0.532568\n",
            "Train Epoch: 1 [37120/60000]\tLoss: 0.456095\n",
            "Train Epoch: 1 [37760/60000]\tLoss: 0.573206\n",
            "Train Epoch: 1 [38400/60000]\tLoss: 0.587156\n",
            "Train Epoch: 1 [39040/60000]\tLoss: 0.606028\n",
            "Train Epoch: 1 [39680/60000]\tLoss: 0.632342\n",
            "Train Epoch: 1 [40320/60000]\tLoss: 0.524219\n",
            "Train Epoch: 1 [40960/60000]\tLoss: 0.633329\n",
            "Train Epoch: 1 [41600/60000]\tLoss: 0.433358\n",
            "Train Epoch: 1 [42240/60000]\tLoss: 0.529035\n",
            "Train Epoch: 1 [42880/60000]\tLoss: 0.427062\n",
            "Train Epoch: 1 [43520/60000]\tLoss: 0.598546\n",
            "Train Epoch: 1 [44160/60000]\tLoss: 0.406915\n",
            "Train Epoch: 1 [44800/60000]\tLoss: 0.606739\n",
            "Train Epoch: 1 [45440/60000]\tLoss: 0.354943\n",
            "Train Epoch: 1 [46080/60000]\tLoss: 0.502833\n",
            "Train Epoch: 1 [46720/60000]\tLoss: 0.569197\n",
            "Train Epoch: 1 [47360/60000]\tLoss: 0.588615\n",
            "Train Epoch: 1 [48000/60000]\tLoss: 0.411861\n",
            "Train Epoch: 1 [48640/60000]\tLoss: 0.483200\n",
            "Train Epoch: 1 [49280/60000]\tLoss: 0.309755\n",
            "Train Epoch: 1 [49920/60000]\tLoss: 0.383820\n",
            "Train Epoch: 1 [50560/60000]\tLoss: 0.584183\n",
            "Train Epoch: 1 [51200/60000]\tLoss: 0.566250\n",
            "Train Epoch: 1 [51840/60000]\tLoss: 0.470654\n",
            "Train Epoch: 1 [52480/60000]\tLoss: 0.435021\n",
            "Train Epoch: 1 [53120/60000]\tLoss: 1.040005\n",
            "Train Epoch: 1 [53760/60000]\tLoss: 0.351459\n",
            "Train Epoch: 1 [54400/60000]\tLoss: 0.433690\n",
            "Train Epoch: 1 [55040/60000]\tLoss: 0.640387\n",
            "Train Epoch: 1 [55680/60000]\tLoss: 0.221836\n",
            "Train Epoch: 1 [56320/60000]\tLoss: 0.264074\n",
            "Train Epoch: 1 [56960/60000]\tLoss: 0.427710\n",
            "Train Epoch: 1 [57600/60000]\tLoss: 0.409001\n",
            "Train Epoch: 1 [58240/60000]\tLoss: 0.353375\n",
            "Train Epoch: 1 [58880/60000]\tLoss: 0.426590\n",
            "Train Epoch: 1 [59520/60000]\tLoss: 0.683059\n",
            "\n",
            "Test set: Avg. loss: 0.1434, Accuracy: 9571/10000 (96%)\n",
            "\n",
            "Train Epoch: 2 [0/60000]\tLoss: 0.325523\n",
            "Train Epoch: 2 [640/60000]\tLoss: 0.370066\n",
            "Train Epoch: 2 [1280/60000]\tLoss: 0.386994\n",
            "Train Epoch: 2 [1920/60000]\tLoss: 0.392792\n",
            "Train Epoch: 2 [2560/60000]\tLoss: 0.467329\n",
            "Train Epoch: 2 [3200/60000]\tLoss: 0.321650\n",
            "Train Epoch: 2 [3840/60000]\tLoss: 0.468051\n",
            "Train Epoch: 2 [4480/60000]\tLoss: 0.385052\n",
            "Train Epoch: 2 [5120/60000]\tLoss: 0.343283\n",
            "Train Epoch: 2 [5760/60000]\tLoss: 0.408362\n",
            "Train Epoch: 2 [6400/60000]\tLoss: 0.540231\n",
            "Train Epoch: 2 [7040/60000]\tLoss: 0.518766\n",
            "Train Epoch: 2 [7680/60000]\tLoss: 0.259200\n",
            "Train Epoch: 2 [8320/60000]\tLoss: 0.425888\n",
            "Train Epoch: 2 [8960/60000]\tLoss: 0.406428\n",
            "Train Epoch: 2 [9600/60000]\tLoss: 0.497070\n",
            "Train Epoch: 2 [10240/60000]\tLoss: 0.349472\n",
            "Train Epoch: 2 [10880/60000]\tLoss: 0.298443\n",
            "Train Epoch: 2 [11520/60000]\tLoss: 0.398985\n",
            "Train Epoch: 2 [12160/60000]\tLoss: 0.355701\n",
            "Train Epoch: 2 [12800/60000]\tLoss: 0.311750\n",
            "Train Epoch: 2 [13440/60000]\tLoss: 0.170001\n",
            "Train Epoch: 2 [14080/60000]\tLoss: 0.401745\n",
            "Train Epoch: 2 [14720/60000]\tLoss: 0.462410\n",
            "Train Epoch: 2 [15360/60000]\tLoss: 0.361252\n",
            "Train Epoch: 2 [16000/60000]\tLoss: 0.358358\n",
            "Train Epoch: 2 [16640/60000]\tLoss: 0.337576\n",
            "Train Epoch: 2 [17280/60000]\tLoss: 0.553621\n",
            "Train Epoch: 2 [17920/60000]\tLoss: 0.342525\n",
            "Train Epoch: 2 [18560/60000]\tLoss: 0.160441\n",
            "Train Epoch: 2 [19200/60000]\tLoss: 0.199333\n",
            "Train Epoch: 2 [19840/60000]\tLoss: 0.445937\n",
            "Train Epoch: 2 [20480/60000]\tLoss: 0.387706\n",
            "Train Epoch: 2 [21120/60000]\tLoss: 0.200089\n",
            "Train Epoch: 2 [21760/60000]\tLoss: 0.280167\n",
            "Train Epoch: 2 [22400/60000]\tLoss: 0.476012\n",
            "Train Epoch: 2 [23040/60000]\tLoss: 0.657044\n",
            "Train Epoch: 2 [23680/60000]\tLoss: 0.424243\n",
            "Train Epoch: 2 [24320/60000]\tLoss: 0.314624\n",
            "Train Epoch: 2 [24960/60000]\tLoss: 0.320092\n",
            "Train Epoch: 2 [25600/60000]\tLoss: 0.362923\n",
            "Train Epoch: 2 [26240/60000]\tLoss: 0.387681\n",
            "Train Epoch: 2 [26880/60000]\tLoss: 0.275960\n",
            "Train Epoch: 2 [27520/60000]\tLoss: 0.320364\n",
            "Train Epoch: 2 [28160/60000]\tLoss: 0.424081\n",
            "Train Epoch: 2 [28800/60000]\tLoss: 0.206318\n",
            "Train Epoch: 2 [29440/60000]\tLoss: 0.553880\n",
            "Train Epoch: 2 [30080/60000]\tLoss: 0.470315\n",
            "Train Epoch: 2 [30720/60000]\tLoss: 0.326169\n",
            "Train Epoch: 2 [31360/60000]\tLoss: 0.455779\n",
            "Train Epoch: 2 [32000/60000]\tLoss: 0.338820\n",
            "Train Epoch: 2 [32640/60000]\tLoss: 0.361908\n",
            "Train Epoch: 2 [33280/60000]\tLoss: 0.310811\n",
            "Train Epoch: 2 [33920/60000]\tLoss: 0.609887\n",
            "Train Epoch: 2 [34560/60000]\tLoss: 0.336182\n",
            "Train Epoch: 2 [35200/60000]\tLoss: 0.263801\n",
            "Train Epoch: 2 [35840/60000]\tLoss: 0.269640\n",
            "Train Epoch: 2 [36480/60000]\tLoss: 0.327850\n",
            "Train Epoch: 2 [37120/60000]\tLoss: 0.302690\n",
            "Train Epoch: 2 [37760/60000]\tLoss: 0.435041\n",
            "Train Epoch: 2 [38400/60000]\tLoss: 0.155411\n",
            "Train Epoch: 2 [39040/60000]\tLoss: 0.219092\n",
            "Train Epoch: 2 [39680/60000]\tLoss: 0.262060\n",
            "Train Epoch: 2 [40320/60000]\tLoss: 0.151518\n",
            "Train Epoch: 2 [40960/60000]\tLoss: 0.406110\n",
            "Train Epoch: 2 [41600/60000]\tLoss: 0.180296\n",
            "Train Epoch: 2 [42240/60000]\tLoss: 0.338039\n",
            "Train Epoch: 2 [42880/60000]\tLoss: 0.465785\n",
            "Train Epoch: 2 [43520/60000]\tLoss: 0.266619\n",
            "Train Epoch: 2 [44160/60000]\tLoss: 0.750359\n",
            "Train Epoch: 2 [44800/60000]\tLoss: 0.439441\n",
            "Train Epoch: 2 [45440/60000]\tLoss: 0.332658\n",
            "Train Epoch: 2 [46080/60000]\tLoss: 0.306414\n",
            "Train Epoch: 2 [46720/60000]\tLoss: 0.282200\n",
            "Train Epoch: 2 [47360/60000]\tLoss: 0.278318\n",
            "Train Epoch: 2 [48000/60000]\tLoss: 0.401305\n",
            "Train Epoch: 2 [48640/60000]\tLoss: 0.348527\n",
            "Train Epoch: 2 [49280/60000]\tLoss: 0.135043\n",
            "Train Epoch: 2 [49920/60000]\tLoss: 0.298786\n",
            "Train Epoch: 2 [50560/60000]\tLoss: 0.214206\n",
            "Train Epoch: 2 [51200/60000]\tLoss: 0.281352\n",
            "Train Epoch: 2 [51840/60000]\tLoss: 0.330591\n",
            "Train Epoch: 2 [52480/60000]\tLoss: 0.260773\n",
            "Train Epoch: 2 [53120/60000]\tLoss: 0.296480\n",
            "Train Epoch: 2 [53760/60000]\tLoss: 0.209529\n",
            "Train Epoch: 2 [54400/60000]\tLoss: 0.233757\n",
            "Train Epoch: 2 [55040/60000]\tLoss: 0.277566\n",
            "Train Epoch: 2 [55680/60000]\tLoss: 0.261655\n",
            "Train Epoch: 2 [56320/60000]\tLoss: 0.223669\n",
            "Train Epoch: 2 [56960/60000]\tLoss: 0.422750\n",
            "Train Epoch: 2 [57600/60000]\tLoss: 0.280407\n",
            "Train Epoch: 2 [58240/60000]\tLoss: 0.302122\n",
            "Train Epoch: 2 [58880/60000]\tLoss: 0.295454\n",
            "Train Epoch: 2 [59520/60000]\tLoss: 0.310853\n",
            "\n",
            "Test set: Avg. loss: 0.1043, Accuracy: 9680/10000 (97%)\n",
            "\n",
            "Train Epoch: 3 [0/60000]\tLoss: 0.263451\n",
            "Train Epoch: 3 [640/60000]\tLoss: 0.403562\n",
            "Train Epoch: 3 [1280/60000]\tLoss: 0.435982\n",
            "Train Epoch: 3 [1920/60000]\tLoss: 0.196567\n",
            "Train Epoch: 3 [2560/60000]\tLoss: 0.168728\n",
            "Train Epoch: 3 [3200/60000]\tLoss: 0.302438\n",
            "Train Epoch: 3 [3840/60000]\tLoss: 0.535147\n",
            "Train Epoch: 3 [4480/60000]\tLoss: 0.355073\n",
            "Train Epoch: 3 [5120/60000]\tLoss: 0.310617\n",
            "Train Epoch: 3 [5760/60000]\tLoss: 0.162981\n",
            "Train Epoch: 3 [6400/60000]\tLoss: 0.227929\n",
            "Train Epoch: 3 [7040/60000]\tLoss: 0.326299\n",
            "Train Epoch: 3 [7680/60000]\tLoss: 0.332036\n",
            "Train Epoch: 3 [8320/60000]\tLoss: 0.103609\n",
            "Train Epoch: 3 [8960/60000]\tLoss: 0.152504\n",
            "Train Epoch: 3 [9600/60000]\tLoss: 0.285782\n",
            "Train Epoch: 3 [10240/60000]\tLoss: 0.353435\n",
            "Train Epoch: 3 [10880/60000]\tLoss: 0.267753\n",
            "Train Epoch: 3 [11520/60000]\tLoss: 0.293983\n",
            "Train Epoch: 3 [12160/60000]\tLoss: 0.227230\n",
            "Train Epoch: 3 [12800/60000]\tLoss: 0.172131\n",
            "Train Epoch: 3 [13440/60000]\tLoss: 0.179637\n",
            "Train Epoch: 3 [14080/60000]\tLoss: 0.325908\n",
            "Train Epoch: 3 [14720/60000]\tLoss: 0.248360\n",
            "Train Epoch: 3 [15360/60000]\tLoss: 0.198743\n",
            "Train Epoch: 3 [16000/60000]\tLoss: 0.232074\n",
            "Train Epoch: 3 [16640/60000]\tLoss: 0.327439\n",
            "Train Epoch: 3 [17280/60000]\tLoss: 0.247154\n",
            "Train Epoch: 3 [17920/60000]\tLoss: 0.207189\n",
            "Train Epoch: 3 [18560/60000]\tLoss: 0.222255\n",
            "Train Epoch: 3 [19200/60000]\tLoss: 0.215899\n",
            "Train Epoch: 3 [19840/60000]\tLoss: 0.182142\n",
            "Train Epoch: 3 [20480/60000]\tLoss: 0.277117\n",
            "Train Epoch: 3 [21120/60000]\tLoss: 0.187585\n",
            "Train Epoch: 3 [21760/60000]\tLoss: 0.302763\n",
            "Train Epoch: 3 [22400/60000]\tLoss: 0.210047\n",
            "Train Epoch: 3 [23040/60000]\tLoss: 0.399437\n",
            "Train Epoch: 3 [23680/60000]\tLoss: 0.204808\n",
            "Train Epoch: 3 [24320/60000]\tLoss: 0.176874\n",
            "Train Epoch: 3 [24960/60000]\tLoss: 0.343077\n",
            "Train Epoch: 3 [25600/60000]\tLoss: 0.285514\n",
            "Train Epoch: 3 [26240/60000]\tLoss: 0.226331\n",
            "Train Epoch: 3 [26880/60000]\tLoss: 0.329080\n",
            "Train Epoch: 3 [27520/60000]\tLoss: 0.270646\n",
            "Train Epoch: 3 [28160/60000]\tLoss: 0.333192\n",
            "Train Epoch: 3 [28800/60000]\tLoss: 0.310858\n",
            "Train Epoch: 3 [29440/60000]\tLoss: 0.155720\n",
            "Train Epoch: 3 [30080/60000]\tLoss: 0.197490\n",
            "Train Epoch: 3 [30720/60000]\tLoss: 0.313603\n",
            "Train Epoch: 3 [31360/60000]\tLoss: 0.328147\n",
            "Train Epoch: 3 [32000/60000]\tLoss: 0.374372\n",
            "Train Epoch: 3 [32640/60000]\tLoss: 0.299456\n",
            "Train Epoch: 3 [33280/60000]\tLoss: 0.370256\n",
            "Train Epoch: 3 [33920/60000]\tLoss: 0.289564\n",
            "Train Epoch: 3 [34560/60000]\tLoss: 0.110181\n",
            "Train Epoch: 3 [35200/60000]\tLoss: 0.247619\n",
            "Train Epoch: 3 [35840/60000]\tLoss: 0.228993\n",
            "Train Epoch: 3 [36480/60000]\tLoss: 0.317198\n",
            "Train Epoch: 3 [37120/60000]\tLoss: 0.223662\n",
            "Train Epoch: 3 [37760/60000]\tLoss: 0.505691\n",
            "Train Epoch: 3 [38400/60000]\tLoss: 0.224182\n",
            "Train Epoch: 3 [39040/60000]\tLoss: 0.264291\n",
            "Train Epoch: 3 [39680/60000]\tLoss: 0.279731\n",
            "Train Epoch: 3 [40320/60000]\tLoss: 0.240543\n",
            "Train Epoch: 3 [40960/60000]\tLoss: 0.259123\n",
            "Train Epoch: 3 [41600/60000]\tLoss: 0.152611\n",
            "Train Epoch: 3 [42240/60000]\tLoss: 0.178132\n",
            "Train Epoch: 3 [42880/60000]\tLoss: 0.358875\n",
            "Train Epoch: 3 [43520/60000]\tLoss: 0.291336\n",
            "Train Epoch: 3 [44160/60000]\tLoss: 0.271660\n",
            "Train Epoch: 3 [44800/60000]\tLoss: 0.214631\n",
            "Train Epoch: 3 [45440/60000]\tLoss: 0.144237\n",
            "Train Epoch: 3 [46080/60000]\tLoss: 0.131561\n",
            "Train Epoch: 3 [46720/60000]\tLoss: 0.121544\n",
            "Train Epoch: 3 [47360/60000]\tLoss: 0.173212\n",
            "Train Epoch: 3 [48000/60000]\tLoss: 0.133256\n",
            "Train Epoch: 3 [48640/60000]\tLoss: 0.241180\n",
            "Train Epoch: 3 [49280/60000]\tLoss: 0.111572\n",
            "Train Epoch: 3 [49920/60000]\tLoss: 0.493781\n",
            "Train Epoch: 3 [50560/60000]\tLoss: 0.235333\n",
            "Train Epoch: 3 [51200/60000]\tLoss: 0.364220\n",
            "Train Epoch: 3 [51840/60000]\tLoss: 0.307994\n",
            "Train Epoch: 3 [52480/60000]\tLoss: 0.240209\n",
            "Train Epoch: 3 [53120/60000]\tLoss: 0.280253\n",
            "Train Epoch: 3 [53760/60000]\tLoss: 0.186016\n",
            "Train Epoch: 3 [54400/60000]\tLoss: 0.236653\n",
            "Train Epoch: 3 [55040/60000]\tLoss: 0.133269\n",
            "Train Epoch: 3 [55680/60000]\tLoss: 0.309840\n",
            "Train Epoch: 3 [56320/60000]\tLoss: 0.267636\n",
            "Train Epoch: 3 [56960/60000]\tLoss: 0.185994\n",
            "Train Epoch: 3 [57600/60000]\tLoss: 0.302353\n",
            "Train Epoch: 3 [58240/60000]\tLoss: 0.249107\n",
            "Train Epoch: 3 [58880/60000]\tLoss: 0.162844\n",
            "Train Epoch: 3 [59520/60000]\tLoss: 0.182207\n",
            "\n",
            "Test set: Avg. loss: 0.0773, Accuracy: 9757/10000 (98%)\n",
            "\n"
          ]
        }
      ]
    },
    {
      "cell_type": "code",
      "source": [
        "# Run network on data we got before and show predictions\n",
        "output = model(example_data)\n",
        "\n",
        "fig = plt.figure()\n",
        "for i in range(10):\n",
        "  plt.subplot(5,5,i+1)\n",
        "  plt.tight_layout()\n",
        "  plt.imshow(example_data[i][0], cmap='gray', interpolation='none')\n",
        "  plt.title(\"Prediction: {}\".format(\n",
        "    output.data.max(1, keepdim=True)[1][i].item()))\n",
        "  plt.xticks([])\n",
        "  plt.yticks([])\n",
        "plt.show()"
      ],
      "metadata": {
        "id": "o7fRUAy9Se1B",
        "colab": {
          "base_uri": "https://localhost:8080/",
          "height": 262
        },
        "outputId": "c5d81fd2-d19b-4e73-8cd5-051963c1ce16"
      },
      "execution_count": 40,
      "outputs": [
        {
          "output_type": "stream",
          "name": "stderr",
          "text": [
            "<ipython-input-34-1bbfca155ac4>:32: UserWarning: Implicit dimension choice for log_softmax has been deprecated. Change the call to include dim=X as an argument.\n",
            "  x = F.log_softmax(self.fc2(x)) #12\n"
          ]
        },
        {
          "output_type": "display_data",
          "data": {
            "text/plain": [
              "<Figure size 640x480 with 10 Axes>"
            ],
            "image/png": "[encoded data removed]"
          },
          "metadata": {}
        }
      ]
    }
  ]
}